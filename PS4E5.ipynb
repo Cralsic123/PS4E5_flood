{
  "nbformat": 4,
  "nbformat_minor": 0,
  "metadata": {
    "colab": {
      "provenance": [],
      "authorship_tag": "ABX9TyP8U4gykt4psq/rQFKnRhQf",
      "include_colab_link": true
    },
    "kernelspec": {
      "name": "python3",
      "display_name": "Python 3"
    },
    "language_info": {
      "name": "python"
    }
  },
  "cells": [
    {
      "cell_type": "markdown",
      "metadata": {
        "id": "view-in-github",
        "colab_type": "text"
      },
      "source": [
        "<a href=\"https://colab.research.google.com/github/Cralsic123/PS4E5_flood/blob/main/PS4E5.ipynb\" target=\"_parent\"><img src=\"https://colab.research.google.com/assets/colab-badge.svg\" alt=\"Open In Colab\"/></a>"
      ]
    },
    {
      "cell_type": "code",
      "execution_count": null,
      "metadata": {
        "id": "bDXjjpXhW5LJ"
      },
      "outputs": [],
      "source": [
        "!pip install great_tables"
      ]
    },
    {
      "cell_type": "code",
      "source": [
        "import numpy as np\n",
        "import pandas as pd\n",
        "import matplotlib.pyplot as plt\n",
        "import seaborn as sns\n",
        "import optuna\n",
        "import warnings\n",
        "import scipy\n",
        "from sklearn.compose import TransformedTargetRegressor\n",
        "from sklearn import set_config\n",
        "from colorama import Style, Fore\n"
      ],
      "metadata": {
        "id": "-fzlTSvBXSzC"
      },
      "execution_count": null,
      "outputs": []
    },
    {
      "cell_type": "code",
      "source": [
        "from sklearn.inspection import permutation_importance, PartialDependenceDisplay\n",
        "from sklearn.model_selection import StratifiedKFold, KFold\n",
        "from xgboost import XGBRegressor\n",
        "from sklearn.linear_model import Ridge, LinearRegression\n",
        "from lightgbm import LGBMRegressor\n",
        "from category_encoders import TargetEncoder, OneHotEncoder, MEstimateEncoder, OrdinalEncoder\n",
        "from sklearn.feature_selection import SequentialFeatureSelector\n",
        "from sklearn.metrics import roc_auc_score, roc_curve, make_scorer, mean_squared_log_error, r2_score\n",
        "from sklearn.metrics.pairwise import euclidean_distances\n",
        "from sklearn.pipeline import Pipeline, make_pipeline\n",
        "from sklearn.base import BaseEstimator, TransformerMixin, RegressorMixin, clone\n",
        "from sklearn.preprocessing import FunctionTransformer, StandardScaler, LabelEncoder, LabelBinarizer, MinMaxScaler, PolynomialFeatures, SplineTransformer\n",
        "from sklearn.compose import ColumnTransformer\n",
        "from scipy.cluster.hierarchy import dendrogram, linkage\n",
        "from scipy.spatial.distance import squareform\n",
        "from catboost import CatBoostRegressor\n",
        "from sklearn.ensemble import HistGradientBoostingRegressor, VotingRegressor, RandomForestRegressor"
      ],
      "metadata": {
        "id": "gp6gHROwXSwp"
      },
      "execution_count": null,
      "outputs": []
    },
    {
      "cell_type": "code",
      "source": [
        "from great_tables import GT, style ,exibble, from_column, loc\n",
        "from colorama import Style, Fore"
      ],
      "metadata": {
        "id": "__nCA_JbXSuQ"
      },
      "execution_count": null,
      "outputs": []
    },
    {
      "cell_type": "code",
      "source": [
        "sns.set_theme(style = 'white', palette = 'colorblind')\n",
        "pal = sns.color_palette('colorblind')\n",
        "\n"
      ],
      "metadata": {
        "id": "ZCbnTbHQXSr3"
      },
      "execution_count": null,
      "outputs": []
    },
    {
      "cell_type": "code",
      "source": [
        "pd.set_option('display.max_rows', 100)\n",
        "set_config(transform_output = 'pandas')\n",
        "pd.options.mode.chained_assignment = None\n",
        "warnings.simplefilter(action='ignore', category=FutureWarning)"
      ],
      "metadata": {
        "id": "1Gd4YfUKi83D"
      },
      "execution_count": null,
      "outputs": []
    },
    {
      "cell_type": "code",
      "source": [
        "palette = ['#20B2AA', '#D8BFD8', '#8B0000', '#C09741',\n",
        "           '#EC5B6D', '#90A6B1', '#6ca957', '#D8E3E2']\n",
        "\n",
        "config = {\n",
        "    'SEED' : 42,\n",
        "    'N_SPLITS': 5,\n",
        "    'SUBMIT' : True,\n",
        "    'USE_ORIGINAL': False\n",
        "\n",
        "}"
      ],
      "metadata": {
        "id": "WPUcdmURi806"
      },
      "execution_count": null,
      "outputs": []
    },
    {
      "cell_type": "code",
      "source": [],
      "metadata": {
        "id": "IV66CLnri8yc"
      },
      "execution_count": null,
      "outputs": []
    },
    {
      "cell_type": "code",
      "source": [],
      "metadata": {
        "id": "e1vk2ZbZi8vU"
      },
      "execution_count": null,
      "outputs": []
    }
  ]
}